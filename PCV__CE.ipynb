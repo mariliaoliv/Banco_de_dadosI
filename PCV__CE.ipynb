{
  "nbformat": 4,
  "nbformat_minor": 0,
  "metadata": {
    "colab": {
      "provenance": [],
      "authorship_tag": "ABX9TyNXSxlKpKUFowZeywU4PNzf",
      "include_colab_link": true
    },
    "kernelspec": {
      "name": "python3",
      "display_name": "Python 3"
    },
    "language_info": {
      "name": "python"
    }
  },
  "cells": [
    {
      "cell_type": "markdown",
      "metadata": {
        "id": "view-in-github",
        "colab_type": "text"
      },
      "source": [
        "<a href=\"https://colab.research.google.com/github/mariliaoliv/Banco_de_dadosI/blob/main/PCV__CE.ipynb\" target=\"_parent\"><img src=\"https://colab.research.google.com/assets/colab-badge.svg\" alt=\"Open In Colab\"/></a>"
      ]
    },
    {
      "cell_type": "code",
      "execution_count": 43,
      "metadata": {
        "id": "fg-wBRxZT9Fe"
      },
      "outputs": [],
      "source": [
        "import random\n",
        "\n",
        "def NerestNeighbor(distance_matrix):\n",
        "  n = len(distance_matrix) # numero de cidades\n",
        "\n",
        "  visited = [False] * n  # lista para marcar as cidades visitadas\n",
        "  tour = [] # lista para salvar a ordem do percuso\n",
        "  total_distance = 0\n",
        "\n",
        "  start = random.randint(0, n - 1)  # random.randint(0, n - 1) # cidade de partida aleatoria\n",
        "  visited[start] = True # marca  a cidade como visitada\n",
        "  tour.append(start) # adiciona ao percuso\n",
        "  current_city = start # define como cidade atual\n",
        "\n",
        "  while len(tour) < n: # enquanto o percuso não estiver completo\n",
        "    next_city = None\n",
        "    min_distance = float('inf')\n",
        "\n",
        "    for j in range(n):  # procura a cidade mais proxima não visitada\n",
        "      if not visited[j] and distance_matrix[current_city][j] < min_distance:\n",
        "        next_city = j\n",
        "        min_distance = distance_matrix[current_city][j]\n",
        "\n",
        "    tour.append(next_city) # adiciona a cidade ao percuso\n",
        "    visited[next_city] = True # marca a nova cidade como visitada\n",
        "    total_distance += min_distance # atualiza a distancia total\n",
        "    current_city = next_city # atualiza a cidade atual\n",
        "\n",
        "  total_distance += distance_matrix[current_city][start]\n",
        "  tour.append(start)\n",
        "\n",
        "  return tour, total_distance\n"
      ]
    },
    {
      "cell_type": "code",
      "source": [
        "def cheapestInsertion(distance_matrix):\n",
        "  n = len(distance_matrix)\n",
        "  univisitade = set(range(n))\n",
        "  tour = []\n",
        "\n",
        "  start = random.randint(0, n - 1)\n",
        "  univisitade.remove(start)\n",
        "  second_city = random.choice(list(univisitade))\n",
        "  univisitade.remove(second_city)\n",
        "\n",
        "  tour = [start, second_city, start]\n",
        "\n",
        "  while univisitade:\n",
        "    best_increase = float('inf')\n",
        "    best_city = None\n",
        "    best_position = None\n",
        "\n",
        "    for city in univisitade:\n",
        "      for i in range(1, len(tour) - 1):\n",
        "        a = tour[i]\n",
        "        b = tour[i + 1]\n",
        "        increase = (distance_matrix[a][city] + distance_matrix[city][b] - distance_matrix[a][b])\n",
        "\n",
        "        if increase < best_increase:\n",
        "          best_increase = increase\n",
        "          best_city = city\n",
        "          best_position = i + 1\n",
        "    tour.insert(best_position, best_city)\n",
        "    univisitade.remove(best_city)\n",
        "\n",
        "  total_distance = 0\n",
        "  for i in range(len(tour) - 1):\n",
        "    a = tour[i]\n",
        "    b = tour[i + 1]\n",
        "    total_distance += distance_matrix[a][b]\n",
        "\n",
        "  return tour, total_distance"
      ],
      "metadata": {
        "id": "fYA8y2eucNGb"
      },
      "execution_count": 48,
      "outputs": []
    },
    {
      "cell_type": "code",
      "source": [
        "# matrix exemplo sala\n",
        "distance_matrix1 = [[0, 2, 1, 4, 9, 1],\n",
        "                    [2, 0, 5, 9, 7, 2],\n",
        "                    [1, 5, 0, 3, 8, 6],\n",
        "                    [4, 9, 3, 0, 2, 6],\n",
        "                    [9, 7, 8, 2, 0, 2],\n",
        "                    [1, 2, 6, 6, 2, 0]]\n",
        "\n",
        "# vizinho mais próximo\n",
        "nn_tour, nn_distance = NerestNeighbor(distance_matrix1)\n",
        "print(\"Tour:\", nn_tour)\n",
        "print(\"Total Distance:\",nn_distance)\n",
        "\n",
        "# insercão mais barata\n",
        "ci_tour, ci_distance = cheapestInsertion(distance_matrix1)\n",
        "print(\"Tour:\", ci_tour)\n",
        "print(\"Total Distance:\", ci_distance)"
      ],
      "metadata": {
        "colab": {
          "base_uri": "https://localhost:8080/"
        },
        "id": "qJ3KGa3yZZvF",
        "outputId": "48d691b3-7b9c-46fc-fc1c-47e11d4e6914"
      },
      "execution_count": 49,
      "outputs": [
        {
          "output_type": "stream",
          "name": "stdout",
          "text": [
            "Tour: [4, 3, 2, 0, 5, 1, 4]\n",
            "Total Distance: 16\n",
            "Tour: [0, 5, 4, 1, 2, 3, 0]\n",
            "Total Distance: 22\n"
          ]
        }
      ]
    },
    {
      "cell_type": "code",
      "source": [
        "distance_matrix2 = [[0, 10, 15, 20],\n",
        "                    [10, 0, 35, 25],\n",
        "                    [15, 35, 0, 30],\n",
        "                    [20, 25, 30, 0]]\n",
        "\n",
        "nnn_tour, nnn_distance = NerestNeighbor(distance_matrix2)\n",
        "print(\"Tour:\", nnn_tour)\n",
        "print(\"Total Distance:\", nnn_distance)\n"
      ],
      "metadata": {
        "colab": {
          "base_uri": "https://localhost:8080/"
        },
        "id": "L4QD6s9gmNTq",
        "outputId": "c0633d2b-3778-45ad-fcb7-6057e52f0597"
      },
      "execution_count": 74,
      "outputs": [
        {
          "output_type": "stream",
          "name": "stdout",
          "text": [
            "Tour: [3, 0, 1, 2, 3]\n",
            "Total Distance: 95\n"
          ]
        }
      ]
    }
  ]
}